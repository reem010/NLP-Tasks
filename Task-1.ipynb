{
  "cells": [
    {
      "cell_type": "code",
      "execution_count": 1,
      "id": "6e57a005",
      "metadata": {
        "id": "6e57a005"
      },
      "outputs": [],
      "source": [
        "import requests\n",
        "from bs4 import BeautifulSoup\n",
        "import re\n",
        "import nltk\n",
        "from nltk.corpus import stopwords\n",
        "from nltk.tokenize import word_tokenize\n",
        "from nltk.stem import WordNetLemmatizer"
      ]
    },
    {
      "cell_type": "code",
      "execution_count": 2,
      "id": "d0202d07",
      "metadata": {
        "id": "d0202d07"
      },
      "outputs": [],
      "source": [
        "# Function to fetch HTML content from a URL\n",
        "def get_html_from_url(url):\n",
        "    response = requests.get(url)\n",
        "    return response.text"
      ]
    },
    {
      "cell_type": "code",
      "execution_count": 19,
      "id": "66505217",
      "metadata": {
        "id": "66505217"
      },
      "outputs": [],
      "source": [
        "url = 'https://qbi.uq.edu.au/brain/brain-anatomy/what-neuron'\n",
        "html_content = get_html_from_url(url)"
      ]
    },
    {
      "cell_type": "code",
      "execution_count": 4,
      "id": "54088fe7",
      "metadata": {
        "id": "54088fe7"
      },
      "outputs": [],
      "source": [
        "# Extract text from paragraphs\n",
        "def extract_text_from_html(html):\n",
        "    soup = BeautifulSoup(html_content, 'html.parser')\n",
        "    paragraphs = soup.find_all('p')\n",
        "    text = ' '.join([p.get_text() for p in paragraphs])\n",
        "    return text"
      ]
    },
    {
      "cell_type": "code",
      "execution_count": 5,
      "id": "34bde6c9",
      "metadata": {
        "colab": {
          "base_uri": "https://localhost:8080/"
        },
        "id": "34bde6c9",
        "outputId": "e396d726-ffc3-4975-d225-4b671892118c"
      },
      "outputs": [
        {
          "output_type": "stream",
          "name": "stdout",
          "text": [
            "Neurons (also called neurones or nerve cells) are the fundamental units of the brain and nervous system, the cells responsible for receiving sensory input from the external world, for sending motor commands to our muscles, and for transforming and relaying the electrical signals at every step in between. More than that, their interactions define who we are as people. Having said that, our roughly 100 billion neurons do interact closely with other cell types, broadly classified as glia (these may actually outnumber neurons, although it’s not really known). The creation of new neurons in the brain is called neurogenesis, and this can happen even in adults. A useful analogy is to think of a neuron as a tree. A neuron has three main parts: dendrites, an axon, and a cell body or soma (see image below), which can be represented as the branches, roots and trunk of a tree, respectively. A dendrite (tree branch) is where a neuron receives input from other cells. Dendrites branch as they move towards their tips, just like tree branches do, and they even have leaf-like structures on them called spines. The axon (tree roots) is the output structure of the neuron; when a neuron wants to talk to another neuron, it sends an electrical message called an action potential throughout the entire axon. The soma (tree trunk) is where the nucleus lies, where the neuron’s DNA is housed, and where proteins are made to be transported throughout the axon and dendrites.  There are different types of neurons, both in the brain and the spinal cord. They are generally divided according to where they orginate, where they project to and which neurotransmitters they use. Axon – The long, thin structure in which action potentials are generated; the transmitting part of the neuron. After initiation, action potentials travel down axons to cause release of neurotransmitter. Dendrite – The receiving part of the neuron. Dendrites receive synaptic inputs from axons, with the sum total of dendritic inputs determining whether the neuron will fire an action potential. Spine – The small protrusions found on dendrites that are, for many synapses, the postsynaptic contact site. Action potential – Brief electrical event typically generated in the axon that signals the neuron as 'active'. An action potential travels the length of the axon and causes release of neurotransmitter into the synapse. The action potential and consequent transmitter release allow the neuron to communicate with other neurons.   Author: Dr Alan Woodruff \n",
            "    ​      \n",
            "     ​       \n",
            "Help QBI researchGive now\n",
            " Give now \n",
            "QBI newslettersSubscribe\n",
            " Subscribe\n"
          ]
        }
      ],
      "source": [
        "text = extract_text_from_html(html_content)\n",
        "print(text)"
      ]
    },
    {
      "cell_type": "code",
      "execution_count": 6,
      "id": "438c755f",
      "metadata": {
        "id": "438c755f"
      },
      "outputs": [],
      "source": [
        "# Function for text preprocessing\n",
        "def preprocess_text(text):\n",
        "    # Convert text to lowercase\n",
        "    text = text.lower()\n",
        "    # Remove non-alphanumeric characters and extra whitespaces\n",
        "    text = re.sub(r'[^a-zA-Z\\s]', '', text)\n",
        "    # Tokenization\n",
        "    tokens = word_tokenize(text)\n",
        "    # Remove stopwords\n",
        "    stop_words = set(stopwords.words('english'))\n",
        "    tokens = [word for word in tokens if word not in stop_words]\n",
        "    # Lemmatization\n",
        "    lemmatizer = WordNetLemmatizer()\n",
        "    tokens = [lemmatizer.lemmatize(word,pos ='v') for word in tokens]\n",
        "    return tokens\n",
        "\n"
      ]
    },
    {
      "cell_type": "code",
      "execution_count": 14,
      "id": "dff233bb",
      "metadata": {
        "colab": {
          "base_uri": "https://localhost:8080/"
        },
        "id": "dff233bb",
        "outputId": "d8b59952-a7bc-4470-b0ff-25ff59a75832"
      },
      "outputs": [
        {
          "output_type": "stream",
          "name": "stdout",
          "text": [
            "['neurons', 'also', 'call', 'neurones', 'nerve', 'cells', 'fundamental', 'units', 'brain', 'nervous', 'system', 'cells', 'responsible', 'receive', 'sensory', 'input', 'external', 'world', 'send', 'motor', 'command', 'muscle', 'transform', 'relay', 'electrical', 'signal', 'every', 'step', 'interactions', 'define', 'people', 'say', 'roughly', 'billion', 'neurons', 'interact', 'closely', 'cell', 'type', 'broadly', 'classify', 'glia', 'may', 'actually', 'outnumber', 'neurons', 'although', 'really', 'know', 'creation', 'new', 'neurons', 'brain', 'call', 'neurogenesis', 'happen', 'even', 'adults', 'useful', 'analogy', 'think', 'neuron', 'tree', 'neuron', 'three', 'main', 'part', 'dendrites', 'axon', 'cell', 'body', 'soma', 'see', 'image', 'represent', 'branch', 'root', 'trunk', 'tree', 'respectively', 'dendrite', 'tree', 'branch', 'neuron', 'receive', 'input', 'cells', 'dendrites', 'branch', 'move', 'towards', 'tip', 'like', 'tree', 'branch', 'even', 'leaflike', 'structure', 'call', 'spin', 'axon', 'tree', 'root', 'output', 'structure', 'neuron', 'neuron', 'want', 'talk', 'another', 'neuron', 'send', 'electrical', 'message', 'call', 'action', 'potential', 'throughout', 'entire', 'axon', 'soma', 'tree', 'trunk', 'nucleus', 'lie', 'neurons', 'dna', 'house', 'proteins', 'make', 'transport', 'throughout', 'axon', 'dendrites', 'different', 'type', 'neurons', 'brain', 'spinal', 'cord', 'generally', 'divide', 'accord', 'orginate', 'project', 'neurotransmitters', 'use', 'axon', 'long', 'thin', 'structure', 'action', 'potentials', 'generate', 'transmit', 'part', 'neuron', 'initiation', 'action', 'potentials', 'travel', 'axons', 'cause', 'release', 'neurotransmitter', 'dendrite', 'receive', 'part', 'neuron', 'dendrites', 'receive', 'synaptic', 'input', 'axons', 'sum', 'total', 'dendritic', 'input', 'determine', 'whether', 'neuron', 'fire', 'action', 'potential', 'spine', 'small', 'protrusions', 'find', 'dendrites', 'many', 'synapses', 'postsynaptic', 'contact', 'site', 'action', 'potential', 'brief', 'electrical', 'event', 'typically', 'generate', 'axon', 'signal', 'neuron', 'active', 'action', 'potential', 'travel', 'length', 'axon', 'cause', 'release', 'neurotransmitter', 'synapse', 'action', 'potential', 'consequent', 'transmitter', 'release', 'allow', 'neuron', 'communicate', 'neurons', 'author', 'dr', 'alan', 'woodruff', 'help', 'qbi', 'researchgive', 'give', 'qbi', 'newsletterssubscribe', 'subscribe']\n"
          ]
        }
      ],
      "source": [
        "tokens = preprocess_text(text)\n",
        "print(tokens)"
      ]
    },
    {
      "cell_type": "code",
      "execution_count": 15,
      "id": "115ba630",
      "metadata": {
        "id": "115ba630"
      },
      "outputs": [],
      "source": [
        "# Function to get unique words\n",
        "def get_unique_words(tokens):\n",
        "    return set(tokens)\n"
      ]
    },
    {
      "cell_type": "code",
      "execution_count": 16,
      "id": "af63428f",
      "metadata": {
        "colab": {
          "base_uri": "https://localhost:8080/"
        },
        "id": "af63428f",
        "outputId": "de27aea4-c0c6-4d58-a863-25048f38905f"
      },
      "outputs": [
        {
          "output_type": "stream",
          "name": "stdout",
          "text": [
            "{'synaptic', 'whether', 'cord', 'neurotransmitters', 'nucleus', 'give', 'happen', 'determine', 'command', 'neuron', 'body', 'sensory', 'entire', 'fundamental', 'dr', 'message', 'event', 'postsynaptic', 'neurones', 'project', 'units', 'receive', 'like', 'small', 'make', 'find', 'electrical', 'output', 'classify', 'creation', 'woodruff', 'billion', 'send', 'think', 'synapse', 'tree', 'accord', 'even', 'signal', 'house', 'initiation', 'say', 'analogy', 'active', 'tip', 'trunk', 'throughout', 'structure', 'root', 'long', 'transform', 'axons', 'divide', 'protrusions', 'spine', 'step', 'know', 'also', 'closely', 'nervous', 'potential', 'sum', 'dna', 'different', 'consequent', 'transmit', 'motor', 'muscle', 'responsible', 'external', 'image', 'see', 'interactions', 'dendrites', 'cells', 'transport', 'travel', 'help', 'release', 'may', 'part', 'main', 'communicate', 'transmitter', 'call', 'define', 'site', 'soma', 'proteins', 'orginate', 'leaflike', 'represent', 'respectively', 'axon', 'fire', 'another', 'newsletterssubscribe', 'relay', 'many', 'branch', 'interact', 'want', 'type', 'spinal', 'neurotransmitter', 'dendritic', 'system', 'generally', 'length', 'neurons', 'glia', 'although', 'input', 'contact', 'dendrite', 'cause', 'cell', 'typically', 'world', 'synapses', 'broadly', 'author', 'nerve', 'talk', 'allow', 'neurogenesis', 'subscribe', 'alan', 'qbi', 'every', 'three', 'thin', 'roughly', 'generate', 'adults', 'researchgive', 'move', 'action', 'spin', 'towards', 'lie', 'actually', 'brain', 'use', 'total', 'potentials', 'brief', 'outnumber', 'people', 'really', 'useful', 'new'}\n"
          ]
        }
      ],
      "source": [
        "unique_words = get_unique_words(tokens)\n",
        "print( unique_words)\n"
      ]
    },
    {
      "cell_type": "code",
      "execution_count": 17,
      "id": "bc5f4f72",
      "metadata": {
        "colab": {
          "base_uri": "https://localhost:8080/"
        },
        "id": "bc5f4f72",
        "outputId": "adfaab92-a52d-416a-fe94-f1e7a22038df"
      },
      "outputs": [
        {
          "output_type": "stream",
          "name": "stdout",
          "text": [
            "['synaptic', 'whether', 'cord', 'neurotransmitters', 'nucleus', 'give', 'happen', 'determine', 'command', 'neuron', 'body', 'sensory', 'entire', 'fundamental', 'message', 'event', 'postsynaptic', 'neurones', 'project', 'units', 'receive', 'like', 'small', 'make', 'find', 'electrical', 'output', 'classify', 'creation', 'woodruff', 'billion', 'send', 'think', 'synapse', 'tree', 'accord', 'even', 'signal', 'house', 'initiation', 'say', 'analogy', 'active', 'tip', 'trunk', 'throughout', 'structure', 'root', 'long', 'transform', 'axons', 'divide', 'protrusions', 'spine', 'step', 'know', 'also', 'closely', 'nervous', 'potential', 'sum', 'dna', 'different', 'consequent', 'transmit', 'motor', 'muscle', 'responsible', 'external', 'image', 'see', 'interactions', 'dendrites', 'cells', 'transport', 'travel', 'help', 'release', 'may', 'part', 'main', 'communicate', 'transmitter', 'call', 'define', 'site', 'soma', 'proteins', 'orginate', 'leaflike', 'represent', 'respectively', 'axon', 'fire', 'another', 'newsletterssubscribe', 'relay', 'many', 'branch', 'interact', 'want', 'type', 'spinal', 'neurotransmitter', 'dendritic', 'system', 'generally', 'length', 'neurons', 'glia', 'although', 'input', 'contact', 'dendrite', 'cause', 'cell', 'typically', 'world', 'synapses', 'broadly', 'author', 'nerve', 'talk', 'allow', 'neurogenesis', 'subscribe', 'alan', 'qbi', 'every', 'three', 'thin', 'roughly', 'generate', 'adults', 'researchgive', 'move', 'action', 'spin', 'towards', 'lie', 'actually', 'brain', 'use', 'total', 'potentials', 'brief', 'outnumber', 'people', 'really', 'useful', 'new']\n"
          ]
        }
      ],
      "source": [
        "# delete tokens with length less than 3\n",
        "last__= []\n",
        "small_words = []\n",
        "\n",
        "for token in list(unique_words):\n",
        "    if len(token)>=3:\n",
        "        last__.append (token)\n",
        "    else:\n",
        "        small_words.append(token)\n",
        "\n",
        "print(last__)"
      ]
    },
    {
      "cell_type": "code",
      "execution_count": 18,
      "id": "ba9e513f",
      "metadata": {
        "colab": {
          "base_uri": "https://localhost:8080/"
        },
        "id": "ba9e513f",
        "outputId": "2ee4804a-655f-4b80-e6fa-01742d43c098"
      },
      "outputs": [
        {
          "output_type": "stream",
          "name": "stdout",
          "text": [
            "['dr']\n"
          ]
        }
      ],
      "source": [
        "print(small_words)"
      ]
    }
  ],
  "metadata": {
    "kernelspec": {
      "display_name": "Python 3 (ipykernel)",
      "language": "python",
      "name": "python3"
    },
    "language_info": {
      "codemirror_mode": {
        "name": "ipython",
        "version": 3
      },
      "file_extension": ".py",
      "mimetype": "text/x-python",
      "name": "python",
      "nbconvert_exporter": "python",
      "pygments_lexer": "ipython3",
      "version": "3.11.4"
    },
    "colab": {
      "provenance": []
    }
  },
  "nbformat": 4,
  "nbformat_minor": 5
}